{
 "cells": [
  {
   "cell_type": "code",
   "execution_count": 1,
   "metadata": {},
   "outputs": [],
   "source": [
    "# Importing the libraries\n",
    "import pandas as pd\n",
    "import numpy as np\n",
    "import matplotlib.pyplot as plt\n",
    "import seaborn as sns\n",
    "from sklearn import svm\n",
    "from sklearn.model_selection import train_test_split\n",
    "from sklearn.model_selection import GridSearchCV\n",
    "from sklearn.svm import SVC\n",
    "from sklearn.model_selection import cross_val_score\n",
    "from sklearn.metrics import accuracy_score, precision_score, recall_score, f1_score\n",
    "import os\n",
    "import sys\n",
    "import warnings\n",
    "warnings.filterwarnings('ignore')\n"
   ]
  },
  {
   "cell_type": "code",
   "execution_count": 2,
   "metadata": {},
   "outputs": [],
   "source": [
    "# Importing the dataset\n",
    "df_transformed = pd.read_csv('preprocessed_data.csv')"
   ]
  },
  {
   "cell_type": "code",
   "execution_count": 3,
   "metadata": {},
   "outputs": [
    {
     "data": {
      "text/plain": [
       "(((552, 7), (138, 7)), ((552,), (138,)))"
      ]
     },
     "execution_count": 3,
     "metadata": {},
     "output_type": "execute_result"
    }
   ],
   "source": [
    "from sklearn.model_selection import train_test_split\n",
    "\n",
    "# Splitting the dataset into training and testing sets with stratification\n",
    "X = df_transformed.drop('Approved', axis=1)\n",
    "y = df_transformed['Approved']\n",
    "\n",
    "X_train, X_test, y_train, y_test = train_test_split(X, y, test_size=0.2, random_state=42, stratify=y)\n",
    "\n",
    "# Confirming the split\n",
    "(X_train.shape, X_test.shape), (y_train.shape, y_test.shape)\n"
   ]
  },
  {
   "cell_type": "code",
   "execution_count": 4,
   "metadata": {},
   "outputs": [
    {
     "data": {
      "text/plain": [
       "0.8495659295659295"
      ]
     },
     "execution_count": 4,
     "metadata": {},
     "output_type": "execute_result"
    }
   ],
   "source": [
    "# Initialize the SVM model with default parameters\n",
    "svm_baseline = SVC()\n",
    "\n",
    "# Performing 5-fold cross-validation to evaluate the baseline model\n",
    "cv_scores = cross_val_score(svm_baseline, X_train, y_train, cv=5)\n",
    "\n",
    "# Calculating the mean cross-validation score\n",
    "mean_cv_score = cv_scores.mean()\n",
    "\n",
    "mean_cv_score"
   ]
  },
  {
   "cell_type": "code",
   "execution_count": 5,
   "metadata": {},
   "outputs": [
    {
     "data": {
      "text/plain": [
       "({'C': 100, 'gamma': 0.1, 'kernel': 'rbf'}, 0.8586076986076987)"
      ]
     },
     "execution_count": 5,
     "metadata": {},
     "output_type": "execute_result"
    }
   ],
   "source": [
    "from sklearn.model_selection import GridSearchCV\n",
    "\n",
    "# Defining the parameter grid\n",
    "param_grid = {\n",
    "    'C': [0.1, 1, 10, 100],\n",
    "    'kernel': ['linear', 'rbf', 'sigmoid'],\n",
    "    'gamma': [0.001, 0.01, 0.1, 1]\n",
    "}\n",
    "\n",
    "# Initialize Grid Search with the SVM model and the defined parameter grid\n",
    "grid_search = GridSearchCV(SVC(random_state=42), param_grid, cv=5, scoring='accuracy')\n",
    "\n",
    "# Fitting Grid Search to the training data\n",
    "grid_search.fit(X_train, y_train)\n",
    "\n",
    "# Best parameters and best score\n",
    "best_parameters = grid_search.best_params_\n",
    "best_score = grid_search.best_score_\n",
    "\n",
    "best_parameters, best_score\n"
   ]
  },
  {
   "cell_type": "code",
   "execution_count": 6,
   "metadata": {},
   "outputs": [
    {
     "data": {
      "text/plain": [
       "(0.8695652173913043,\n",
       " 0.9056603773584906,\n",
       " 0.7868852459016393,\n",
       " 0.8421052631578947,\n",
       " 0.8609750904832872)"
      ]
     },
     "execution_count": 6,
     "metadata": {},
     "output_type": "execute_result"
    }
   ],
   "source": [
    "from sklearn.preprocessing import PolynomialFeatures\n",
    "\n",
    "# Initializing the PolynomialFeatures generator with degree 2\n",
    "poly = PolynomialFeatures(degree=2)\n",
    "\n",
    "# Applying polynomial feature transformation to the training and testing sets\n",
    "X_train_poly = poly.fit_transform(X_train)\n",
    "X_test_poly = poly.transform(X_test)\n",
    "\n",
    "# Re-training the SVM model with the optimal parameters found and polynomial features\n",
    "svm_optimized = SVC(C=100, gamma=1, kernel='poly', degree=3, random_state=42)\n",
    "svm_optimized.fit(X_train_poly, y_train)\n",
    "\n",
    "# Predictions on the test set\n",
    "y_pred = svm_optimized.predict(X_test_poly)\n",
    "\n",
    "# Evaluation metrics\n",
    "from sklearn.metrics import accuracy_score, precision_score, recall_score, f1_score, roc_auc_score\n",
    "\n",
    "# Calculating metrics\n",
    "accuracy = accuracy_score(y_test, y_pred)\n",
    "precision = precision_score(y_test, y_pred)\n",
    "recall = recall_score(y_test, y_pred)\n",
    "f1 = f1_score(y_test, y_pred)\n",
    "roc_auc = roc_auc_score(y_test, y_pred)\n",
    "\n",
    "accuracy, precision, recall, f1, roc_auc"
   ]
  },
  {
   "cell_type": "code",
   "execution_count": 7,
   "metadata": {},
   "outputs": [
    {
     "data": {
      "text/plain": [
       "(0.8478260869565217,\n",
       " 0.8571428571428571,\n",
       " 0.7868852459016393,\n",
       " 0.8205128205128205,\n",
       " 0.8414945710027677)"
      ]
     },
     "execution_count": 7,
     "metadata": {},
     "output_type": "execute_result"
    }
   ],
   "source": [
    "from imblearn.over_sampling import SMOTE\n",
    "\n",
    "# Initialize the SMOTE object\n",
    "smote = SMOTE(random_state=42)\n",
    "\n",
    "# Applying SMOTE to the training data\n",
    "X_train_resampled, y_train_resampled = smote.fit_resample(X_train, y_train)\n",
    "\n",
    "# Confirming the resampling\n",
    "(X_train_resampled.shape, y_train_resampled.shape)\n",
    "\n",
    "# Re-training the SVM model with the optimal parameters found and the resampled data\n",
    "svm_optimized_resampled = SVC(C=100, gamma=1, kernel='poly', degree=3, random_state=42)\n",
    "svm_optimized_resampled.fit(X_train_resampled, y_train_resampled)\n",
    "\n",
    "# Predictions on the test set\n",
    "y_pred_resampled = svm_optimized_resampled.predict(X_test)\n",
    "\n",
    "# Calculating metrics\n",
    "accuracy_resampled = accuracy_score(y_test, y_pred_resampled)\n",
    "precision_resampled = precision_score(y_test, y_pred_resampled)\n",
    "recall_resampled = recall_score(y_test, y_pred_resampled)\n",
    "f1_resampled = f1_score(y_test, y_pred_resampled)\n",
    "roc_auc_resampled = roc_auc_score(y_test, y_pred_resampled)\n",
    "\n",
    "accuracy_resampled, precision_resampled, recall_resampled, f1_resampled, roc_auc_resampled\n"
   ]
  },
  {
   "cell_type": "code",
   "execution_count": 8,
   "metadata": {},
   "outputs": [
    {
     "name": "stdout",
     "output_type": "stream",
     "text": [
      "Classification Report:\n",
      "              precision    recall  f1-score   support\n",
      "\n",
      "           0       0.85      0.94      0.89        77\n",
      "           1       0.91      0.79      0.84        61\n",
      "\n",
      "    accuracy                           0.87       138\n",
      "   macro avg       0.88      0.86      0.87       138\n",
      "weighted avg       0.87      0.87      0.87       138\n",
      "\n",
      "ROC-AUC Score: 0.8609750904832872\n"
     ]
    }
   ],
   "source": [
    "from joblib import load\n",
    "from sklearn.metrics import classification_report, roc_auc_score\n",
    "\n",
    "# Apply the same transformations to X_test\n",
    "X_test_transformed = poly.transform(X_test)\n",
    "\n",
    "# Now you can use svm_optimized to make predictions\n",
    "# Predict the test set\n",
    "y_pred_test = svm_optimized.predict(X_test_transformed)\n",
    "\n",
    "# Evaluate the predictions\n",
    "print(\"Classification Report:\")\n",
    "print(classification_report(y_test, y_pred_test))\n",
    "\n",
    "roc_auc = roc_auc_score(y_test, y_pred_test)\n",
    "print(f\"ROC-AUC Score: {roc_auc}\")"
   ]
  },
  {
   "cell_type": "code",
   "execution_count": 9,
   "metadata": {},
   "outputs": [
    {
     "data": {
      "text/plain": [
       "(0.8333333333333334,\n",
       " 0.8653846153846154,\n",
       " 0.7377049180327869,\n",
       " 0.7964601769911505,\n",
       " 0.823397913561848)"
      ]
     },
     "execution_count": 9,
     "metadata": {},
     "output_type": "execute_result"
    }
   ],
   "source": [
    "from sklearn.preprocessing import PolynomialFeatures\n",
    "\n",
    "# Initializing the PolynomialFeatures generator with degree 2\n",
    "poly = PolynomialFeatures(degree=2)\n",
    "\n",
    "# Applying polynomial feature transformation to the training and testing sets\n",
    "X_train_poly = poly.fit_transform(X_train)\n",
    "X_test_poly = poly.transform(X_test)\n",
    "\n",
    "# Re-training the SVM model with the optimal parameters found and polynomial features\n",
    "svm_optimized = SVC(C=100, gamma=1, kernel='poly', degree=6, random_state=42)\n",
    "svm_optimized.fit(X_train_poly, y_train)\n",
    "\n",
    "# Predictions on the test set\n",
    "y_pred = svm_optimized.predict(X_test_poly)\n",
    "\n",
    "# Evaluation metrics\n",
    "from sklearn.metrics import accuracy_score, precision_score, recall_score, f1_score, roc_auc_score\n",
    "\n",
    "# Calculating metrics\n",
    "accuracy = accuracy_score(y_test, y_pred)\n",
    "precision = precision_score(y_test, y_pred)\n",
    "recall = recall_score(y_test, y_pred)\n",
    "f1 = f1_score(y_test, y_pred)\n",
    "roc_auc = roc_auc_score(y_test, y_pred)\n",
    "\n",
    "accuracy, precision, recall, f1, roc_auc"
   ]
  },
  {
   "cell_type": "code",
   "execution_count": 10,
   "metadata": {},
   "outputs": [
    {
     "data": {
      "text/plain": [
       "(0.8333333333333334,\n",
       " 0.8653846153846154,\n",
       " 0.7377049180327869,\n",
       " 0.7964601769911505,\n",
       " 0.823397913561848)"
      ]
     },
     "execution_count": 10,
     "metadata": {},
     "output_type": "execute_result"
    }
   ],
   "source": [
    "from imblearn.over_sampling import SMOTE\n",
    "\n",
    "# Initialize the SMOTE object\n",
    "smote = SMOTE(random_state=42)\n",
    "\n",
    "# Applying SMOTE to the training data\n",
    "X_train_resampled, y_train_resampled = smote.fit_resample(X_train, y_train)\n",
    "\n",
    "# Confirming the resampling\n",
    "(X_train_resampled.shape, y_train_resampled.shape)\n",
    "\n",
    "# Re-training the SVM model with the optimal parameters found and the resampled data\n",
    "svm_optimized_resampled = SVC(C=100, gamma=1, kernel='poly', degree=6, random_state=42)\n",
    "svm_optimized_resampled.fit(X_train_resampled, y_train_resampled)\n",
    "\n",
    "# Predictions on the test set\n",
    "y_pred_resampled = svm_optimized_resampled.predict(X_test)\n",
    "\n",
    "# Calculating metrics\n",
    "accuracy_resampled = accuracy_score(y_test, y_pred_resampled)\n",
    "precision_resampled = precision_score(y_test, y_pred_resampled)\n",
    "recall_resampled = recall_score(y_test, y_pred_resampled)\n",
    "f1_resampled = f1_score(y_test, y_pred_resampled)\n",
    "roc_auc_resampled = roc_auc_score(y_test, y_pred_resampled)\n",
    "\n",
    "accuracy_resampled, precision_resampled, recall_resampled, f1_resampled, roc_auc_resampled\n"
   ]
  },
  {
   "cell_type": "code",
   "execution_count": 22,
   "metadata": {},
   "outputs": [
    {
     "name": "stdout",
     "output_type": "stream",
     "text": [
      "Classification Report:\n",
      "              precision    recall  f1-score   support\n",
      "\n",
      "           0       0.81      0.91      0.86        77\n",
      "           1       0.87      0.74      0.80        61\n",
      "\n",
      "    accuracy                           0.83       138\n",
      "   macro avg       0.84      0.82      0.83       138\n",
      "weighted avg       0.84      0.83      0.83       138\n",
      "\n",
      "ROC-AUC Score: 0.823397913561848\n"
     ]
    }
   ],
   "source": [
    "from joblib import load\n",
    "from sklearn.metrics import classification_report, roc_auc_score\n",
    "\n",
    "# Apply the same transformations to X_test\n",
    "X_test_transformed = poly.transform(X_test)\n",
    "\n",
    "# Now you can use svm_optimized to make predictions\n",
    "# Predict the test set\n",
    "y_pred_test = svm_optimized.predict(X_test_transformed)\n",
    "\n",
    "# Evaluate the predictions\n",
    "print(\"Classification Report:\")\n",
    "print(classification_report(y_test, y_pred_test))\n",
    "\n",
    "roc_auc = roc_auc_score(y_test, y_pred_test)\n",
    "print(f\"ROC-AUC Score: {roc_auc}\")"
   ]
  },
  {
   "cell_type": "code",
   "execution_count": null,
   "metadata": {},
   "outputs": [],
   "source": []
  }
 ],
 "metadata": {
  "kernelspec": {
   "display_name": "Python 3 (ipykernel)",
   "language": "python",
   "name": "python3"
  },
  "language_info": {
   "codemirror_mode": {
    "name": "ipython",
    "version": 3
   },
   "file_extension": ".py",
   "mimetype": "text/x-python",
   "name": "python",
   "nbconvert_exporter": "python",
   "pygments_lexer": "ipython3",
   "version": "3.11.7"
  }
 },
 "nbformat": 4,
 "nbformat_minor": 4
}
